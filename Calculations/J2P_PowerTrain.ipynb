{
 "cells": [
  {
   "cell_type": "markdown",
   "metadata": {},
   "source": [
    "# J2P Power Train"
   ]
  },
  {
   "cell_type": "markdown",
   "metadata": {},
   "source": [
    "Defining some constants for the J2P Bot used in the following calculations"
   ]
  },
  {
   "cell_type": "code",
   "execution_count": null,
   "metadata": {},
   "outputs": [],
   "source": [
    "# J2P Constants\n",
    "TOTAL_MASS   = 10    # [kg]\n",
    "TOTAL_LENGTH = 0.700 # [m]\n",
    "TOTAL_WIDTH  = 0.540 # [m]\n",
    "TOTAL_HEIGHT = 0.120 # [m]\n",
    "\n",
    "# General constants\n",
    "GRAVITY      = 9.810 # m/s^2"
   ]
  }
 ],
 "metadata": {
  "kernelspec": {
   "display_name": "Python 3",
   "language": "python",
   "name": "python3"
  },
  "language_info": {
   "codemirror_mode": {
    "name": "ipython",
    "version": 3
   },
   "file_extension": ".py",
   "mimetype": "text/x-python",
   "name": "python",
   "nbconvert_exporter": "python",
   "pygments_lexer": "ipython3",
   "version": "3.8.5"
  }
 },
 "nbformat": 4,
 "nbformat_minor": 4
}
