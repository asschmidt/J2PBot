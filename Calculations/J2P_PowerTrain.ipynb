{
 "cells": [
  {
   "cell_type": "markdown",
   "metadata": {},
   "source": [
    "# J2P Power Train"
   ]
  },
  {
   "cell_type": "markdown",
   "metadata": {},
   "source": [
    "Defining some constants for the J2P Bot used in the following calculations"
   ]
  },
  {
   "cell_type": "code",
   "execution_count": 52,
   "metadata": {},
   "outputs": [],
   "source": [
    "import math\n",
    "import numpy as np\n",
    "\n",
    "# J2P Constants\n",
    "TOTAL_MASS     = 10    # [kg]\n",
    "TOTAL_LENGTH   = 0.700 # [m]\n",
    "TOTAL_WIDTH    = 0.540 # [m]\n",
    "TOTAL_HEIGHT   = 0.120 # [m]\n",
    "\n",
    "WHEEL_DIAMETER = 0.12  # [m]\n",
    "WHEEL_RADIUS   = WHEEL_DIAMETER / 2.0 # [m]\n",
    "\n",
    "# General constants\n",
    "GRAVITY        = 9.810 # m/s^2\n",
    "\n",
    "# Friction\n",
    "#STATIC_FR_WHEEL_STREET  = 1.05 # Schlupf 20% Quelle: Diplomarbeit Daniel Wallner TU Graz\n",
    "STATIC_FR_WHEEL_STREET  = 0.80 # Source: https://www.schweizer-fn.de/stoff/reibwerte/reibwerte.php\n",
    "STATIC_FR_WHEEL_GRAVEL  = 0.45 # Schlupt 20% Quelle: Diplomarbeit Daniel Wallner TU Graz\n",
    "\n",
    "SLIDING_FR_WHEEL_STREET = 0.50 # Sliding friction on dry concrete Source: https://www.schweizer-fn.de/stoff/reibwerte/reibwerte.php\n",
    "\n",
    "ROLLING_FR_WHEEL_STREET = 0.015 # Rolling resistance of car tire on asphalt. Source: https://de.wikipedia.org/wiki/Rollwiderstand\n",
    "ROLLING_f_WHEEL_STREET  = 0.0008 # Hebelarm der Rollreibung Source: Tabellenbuch Metall mit Formelsammlung - Digitales Buch, Europa-Nr. 10609V, 48. Auflage\n",
    "\n",
    "# Environment\n",
    "DEFAULT_SLOPE = 0 # Zero degree -> no slope\n",
    "ROBOT_LOAD    = 0 # Load to the robot (e.g. electronics, battery, camera etc.)\n",
    "\n",
    "# Global Scenarios\n",
    "DEFAULT_EPSILON  = 0.1 # 10% addon because of bearing and supports\n",
    "DEFAULT_VELOCITY = 2.5 # m/s\n",
    "DEFAULT_ACCEL    = 0.5 # m/s^2"
   ]
  },
  {
   "cell_type": "markdown",
   "metadata": {},
   "source": [
    "## Weight"
   ]
  },
  {
   "cell_type": "markdown",
   "metadata": {},
   "source": [
    "Caclulating the weight, the normal weight force and also the downhill slope force"
   ]
  },
  {
   "cell_type": "code",
   "execution_count": 53,
   "metadata": {},
   "outputs": [
    {
     "name": "stdout",
     "output_type": "stream",
     "text": [
      "FG : 98.1 N\n",
      "FGN: 98.1 N\n",
      "FGH: 0.0 N\n"
     ]
    }
   ],
   "source": [
    "Total_FG = (TOTAL_MASS + ROBOT_LOAD) * GRAVITY\n",
    "Total_FGN = math.cos(math.radians(DEFAULT_SLOPE)) * Total_FG\n",
    "Total_FGH = math.sin(math.radians(DEFAULT_SLOPE)) * Total_FG\n",
    "\n",
    "print(\"FG : {:3.4} N\".format(Total_FG))\n",
    "print(\"FGN: {:3.4} N\".format(Total_FGN))\n",
    "print(\"FGH: {:3.4} N\".format(Total_FGH))"
   ]
  },
  {
   "cell_type": "markdown",
   "metadata": {},
   "source": [
    "Calculating the weight and normal force for a single wheel"
   ]
  },
  {
   "cell_type": "code",
   "execution_count": 54,
   "metadata": {},
   "outputs": [
    {
     "name": "stdout",
     "output_type": "stream",
     "text": [
      "FGN: 16.35 N\n",
      "FGH: 0.0 N\n"
     ]
    }
   ],
   "source": [
    "Wheel_FGN = (math.cos(math.radians(DEFAULT_SLOPE)) * Total_FG) / 6\n",
    "Wheel_FGH = (math.sin(math.radians(DEFAULT_SLOPE)) * Total_FG) / 6\n",
    "\n",
    "print(\"FGN: {:3.4} N\".format(Wheel_FGN))\n",
    "print(\"FGH: {:3.4} N\".format(Wheel_FGH))"
   ]
  },
  {
   "cell_type": "markdown",
   "metadata": {},
   "source": [
    "## Friction"
   ]
  },
  {
   "cell_type": "markdown",
   "metadata": {},
   "source": [
    "### Static Friction"
   ]
  },
  {
   "cell_type": "markdown",
   "metadata": {},
   "source": [
    "The first calculation covers the static friction. For this we use only friction factors for car tires on asphalt"
   ]
  },
  {
   "cell_type": "code",
   "execution_count": 55,
   "metadata": {},
   "outputs": [
    {
     "name": "stdout",
     "output_type": "stream",
     "text": [
      "Wheel_FR: 13.08 N\n"
     ]
    }
   ],
   "source": [
    "# Defining the MU_H values\n",
    "MU_H = STATIC_FR_WHEEL_STREET # Friction factor of car tire on dry asphalt\n",
    "#MU_H = 0.5 # Friction factor of car tire on wet asphalt\n",
    "#MU_H = 0.1 # Friction factor of car tire on ice\n",
    "\n",
    "Wheel_FR = MU_H * Wheel_FGN\n",
    "\n",
    "print(\"Wheel_FR: {:3.4} N\".format(Wheel_FR))"
   ]
  },
  {
   "cell_type": "markdown",
   "metadata": {},
   "source": [
    "### Sliding Friction"
   ]
  },
  {
   "cell_type": "markdown",
   "metadata": {},
   "source": [
    "The calculation of the sliding friction is nearly the same as for the static friction. Only the friction factor changes"
   ]
  },
  {
   "cell_type": "code",
   "execution_count": 56,
   "metadata": {},
   "outputs": [
    {
     "name": "stdout",
     "output_type": "stream",
     "text": [
      "Wheel_FGR: 8.175 N\n"
     ]
    }
   ],
   "source": [
    "# Defining the MU_G values\n",
    "MU_G = SLIDING_FR_WHEEL_STREET # Sliding Friction factor of car tire on dry asphalt\n",
    "\n",
    "Wheel_FGR = MU_G * Wheel_FGN\n",
    "\n",
    "print(\"Wheel_FGR: {:3.4} N\".format(Wheel_FGR))"
   ]
  },
  {
   "cell_type": "markdown",
   "metadata": {},
   "source": [
    "### Rolling Friction\n",
    "The roling friction calculation is from the mathematical point of view very similar to the other friction types. But the friction factor is completely different and is based on completely different physical concepts"
   ]
  },
  {
   "cell_type": "code",
   "execution_count": 57,
   "metadata": {},
   "outputs": [
    {
     "name": "stdout",
     "output_type": "stream",
     "text": [
      "Wheel_FRR: 0.218 N\n"
     ]
    }
   ],
   "source": [
    "# Defining the cR value\n",
    "CR = ROLLING_f_WHEEL_STREET / WHEEL_RADIUS\n",
    "#CR = ROLLING_FR_WHEEL_STREET # rolling friction factor of car tire on dry asphalt\n",
    "\n",
    "Wheel_FRR = CR * Wheel_FGN\n",
    "\n",
    "print(\"Wheel_FRR: {:3.4} N\".format(Wheel_FRR))"
   ]
  },
  {
   "cell_type": "markdown",
   "metadata": {},
   "source": [
    "## Movement Scenarios"
   ]
  },
  {
   "cell_type": "code",
   "execution_count": null,
   "metadata": {},
   "outputs": [],
   "source": []
  },
  {
   "cell_type": "markdown",
   "metadata": {},
   "source": [
    "### Scenario A: Movement on flat, horizontal surface"
   ]
  },
  {
   "cell_type": "code",
   "execution_count": 73,
   "metadata": {},
   "outputs": [
    {
     "name": "stdout",
     "output_type": "stream",
     "text": [
      "Wheel_FA     : 0.8333 N\n",
      "Wheel_FA_Real: 10.15 N\n",
      "Not Slipping : True\n",
      "Wheel_MA     : 0.6089 Nm\n"
     ]
    }
   ],
   "source": [
    "# The pure force for the theoretical movement without resistances\n",
    "Wheel_FA = (Wheel_FGN / GRAVITY) * DEFAULT_ACCEL\n",
    "# The force including the resistances (rolling resistance and downhill slope force)\n",
    "Wheel_FA_Real = Wheel_FA + Wheel_FRR + Wheel_FGH\n",
    "# Add the bearing and support losses\n",
    "Wheel_FA_Real = Wheel_FA_Real + (Wheel_FA_Real * DEFAULT_EPSILON)\n",
    "\n",
    "# Check whether the force is smaller or equal to FR\n",
    "NotSlipping = Wheel_FA <= Wheel_FR\n",
    "\n",
    "# Calculate the needed torque\n",
    "Wheel_MA = Wheel_FA_Real * WHEEL_RADIUS\n",
    "\n",
    "print(\"Wheel_FA     : {:3.4} N\".format(Wheel_FA))\n",
    "print(\"Wheel_FA_Real: {:3.4} N\".format(Wheel_FA_Real))\n",
    "print(\"Not Slipping : {}\".format(NotSlipping))\n",
    "\n",
    "print(\"Wheel_MA     : {:3.4} Nm\".format(Wheel_MA))"
   ]
  },
  {
   "cell_type": "markdown",
   "metadata": {},
   "source": [
    "### Scenario B: Movement across a small obstacle"
   ]
  },
  {
   "cell_type": "code",
   "execution_count": 75,
   "metadata": {},
   "outputs": [
    {
     "name": "stdout",
     "output_type": "stream",
     "text": [
      "Angle Phi         : 60.0°\n",
      "Distance y        : 0.05196m (5.196cm)\n",
      "Angle Alpha       : 30.0°\n",
      "Wheel_FGH_Obstacle: 8.175N\n",
      "\n",
      "Wheel_FA     : 0.2083 N\n",
      "Wheel_FA_Real: 18.45 N\n",
      "Not Slipping : True\n",
      "Wheel_MA     : 1.107 Nm\n"
     ]
    }
   ],
   "source": [
    "# First, defining the obstacle\n",
    "Obstacle_Height = 0.03 # 3cm height\n",
    "\n",
    "# Now calculating the angle phi in the wheel circle\n",
    "cosPhi = (WHEEL_RADIUS - Obstacle_Height) / WHEEL_RADIUS # (r - h) / r\n",
    "phi = math.degrees(math.acos((cosPhi)))\n",
    "# Calculating the distance y\n",
    "y = math.sin(math.radians(phi)) * WHEEL_RADIUS\n",
    "# Calculating the angle alpha for the slope\n",
    "alpha = math.degrees(math.atan(Obstacle_Height / y))\n",
    "\n",
    "print(\"Angle Phi         : {:3.4}°\".format(phi))\n",
    "print(\"Distance y        : {:3.4}m ({:3.4}cm)\".format(y, y*100))\n",
    "print(\"Angle Alpha       : {:3.4}°\".format(alpha))\n",
    "\n",
    "# Calculate the downhill slope force for the obstacle (based on alpha)\n",
    "Wheel_FGH_Obstacle = (math.sin(math.radians(alpha)) * Total_FG) / 6\n",
    "print(\"Wheel_FGH_Obstacle: {:3.4}N\\n\".format(Wheel_FGH_Obstacle))\n",
    "\n",
    "# The pure force for the theoretical movement without resistances\n",
    "Wheel_FA = (Wheel_FGN / GRAVITY) * (DEFAULT_ACCEL / 4.0) # Use only a 4th of the acceleration\n",
    "# The force including the resistances (rolling resistance and downhill slope force + downhill clopse force obstacle)\n",
    "Wheel_FA_Real = Wheel_FA + Wheel_FRR + Wheel_FGH + Wheel_FGH_Obstacle\n",
    "# Add the bearing and support losses\n",
    "Wheel_FA_Real = Wheel_FA_Real + (Wheel_FA_Real * DEFAULT_EPSILON)\n",
    "\n",
    "# Check whether the force is smaller or equal to FR\n",
    "NotSlipping = Wheel_FA <= Wheel_FR\n",
    "\n",
    "# Calculate the needed torque\n",
    "Wheel_MA = Wheel_FA_Real * WHEEL_RADIUS\n",
    "\n",
    "print(\"Wheel_FA     : {:3.4} N\".format(Wheel_FA))\n",
    "print(\"Wheel_FA_Real: {:3.4} N\".format(Wheel_FA_Real))\n",
    "print(\"Not Slipping : {}\".format(NotSlipping))\n",
    "\n",
    "print(\"Wheel_MA     : {:3.4} Nm\".format(Wheel_MA))"
   ]
  },
  {
   "cell_type": "code",
   "execution_count": null,
   "metadata": {},
   "outputs": [],
   "source": []
  }
 ],
 "metadata": {
  "kernelspec": {
   "display_name": "Python 3",
   "language": "python",
   "name": "python3"
  },
  "language_info": {
   "codemirror_mode": {
    "name": "ipython",
    "version": 3
   },
   "file_extension": ".py",
   "mimetype": "text/x-python",
   "name": "python",
   "nbconvert_exporter": "python",
   "pygments_lexer": "ipython3",
   "version": "3.8.5"
  }
 },
 "nbformat": 4,
 "nbformat_minor": 4
}
