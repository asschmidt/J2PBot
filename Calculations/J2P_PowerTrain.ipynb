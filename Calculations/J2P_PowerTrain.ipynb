{
 "cells": [
  {
   "cell_type": "markdown",
   "metadata": {},
   "source": [
    "# J2P Power Train"
   ]
  },
  {
   "cell_type": "markdown",
   "metadata": {},
   "source": [
    "## Global Calculation Setup"
   ]
  },
  {
   "cell_type": "markdown",
   "metadata": {},
   "source": [
    "In this section we are going to define some basic and globally valid constants for the J2P Bot calculations. This includes for example the dimensions of the bot, the weight and also some constant factors for the different friction scenarios."
   ]
  },
  {
   "cell_type": "code",
   "execution_count": 121,
   "metadata": {},
   "outputs": [],
   "source": [
    "import math\n",
    "import numpy as np\n",
    "\n",
    "# J2P Constants\n",
    "TOTAL_MASS     = 10    # [kg]\n",
    "TOTAL_LENGTH   = 0.700 # [m]\n",
    "TOTAL_WIDTH    = 0.540 # [m]\n",
    "TOTAL_HEIGHT   = 0.120 # [m]\n",
    "\n",
    "WHEEL_DIAMETER = 0.12  # [m]\n",
    "WHEEL_RADIUS   = WHEEL_DIAMETER / 2.0 # [m]\n",
    "\n",
    "# General constants\n",
    "GRAVITY        = 9.810 # m/s^2\n",
    "\n",
    "# Friction\n",
    "STATIC_FH_WHEEL_STREET   = 0.80 # Source: https://www.schweizer-fn.de/stoff/reibwerte/reibwerte.php\n",
    "STATIC_FH_WHEEL_GRAVEL   = 0.45 # Schlupt 20% Quelle: Diplomarbeit Daniel Wallner TU Graz\n",
    "\n",
    "SLIDING_FG_WHEEL_STREET  = 0.50 # Sliding friction on dry concrete Source: https://www.schweizer-fn.de/stoff/reibwerte/reibwerte.php\n",
    "\n",
    "ROLLING_FRR_WHEEL_STREET = 0.015 # Rolling resistance of car tire on asphalt. Source: https://de.wikipedia.org/wiki/Rollwiderstand\n",
    "ROLLING_f_WHEEL_STREET   = 0.008 # Hebelarm der Rollreibung Source: Tabellenbuch Metall mit Formelsammlung - Digitales Buch, Europa-Nr. 10609V, 48. Auflage\n",
    "\n",
    "# Environment\n",
    "DEFAULT_SLOPE = 0 # [deg] Zero degree -> no slope\n",
    "ROBOT_LOAD    = 0 # [kg] Load to the robot (e.g. electronics, battery, camera etc.)\n",
    "\n",
    "# Global Scenarios\n",
    "DEFAULT_EPSILON  = 0.1 # 10% addon because of bearing and supports\n",
    "DEFAULT_VELOCITY = 2.5 # m/s\n",
    "DEFAULT_ACCEL    = 0.5 # m/s^2"
   ]
  },
  {
   "cell_type": "markdown",
   "metadata": {},
   "source": [
    "## Weight"
   ]
  },
  {
   "cell_type": "markdown",
   "metadata": {},
   "source": [
    "In this section we are going to calculate the weight, the normal weight force and also the downhill slope force.\n",
    "\n",
    "The weight: $\\vec{F}_G = m * \\vec{g}$\n",
    "\n",
    "The normal weight force: $\\vec{F}_{GN} = cos(\\alpha) * \\vec{F}_G$\n",
    "\n",
    "The downhill slope force $\\vec{F}_{GH} = sin(\\alpha) * \\vec{F}_G$\n",
    "\n",
    "In the Python code below, we have the constants <code>TOTAL_MASS + ROBOT_LOAD</code> for $m$, <code>GRAVITY</code> for $g$ and <code>DEFAULT_SLOPE</code> for the slope angle $\\alpha$"
   ]
  },
  {
   "cell_type": "code",
   "execution_count": 122,
   "metadata": {},
   "outputs": [
    {
     "name": "stdout",
     "output_type": "stream",
     "text": [
      "FG : 98.1 N\n",
      "FGN: 98.1 N\n",
      "FGH: 0.0 N\n"
     ]
    }
   ],
   "source": [
    "Total_FG = (TOTAL_MASS + ROBOT_LOAD) * GRAVITY\n",
    "Total_FGN = math.cos(math.radians(DEFAULT_SLOPE)) * Total_FG\n",
    "Total_FGH = math.sin(math.radians(DEFAULT_SLOPE)) * Total_FG\n",
    "\n",
    "print(\"FG : {:3.4} N\".format(Total_FG))\n",
    "print(\"FGN: {:3.4} N\".format(Total_FGN))\n",
    "print(\"FGH: {:3.4} N\".format(Total_FGH))"
   ]
  },
  {
   "cell_type": "markdown",
   "metadata": {},
   "source": [
    "Due to the fact that we assume a homogenous distribution of the weight, we can calculate the normal weight force and the downhill slope force for a single wheel simply by dividing the corresponding forces by 6\n",
    "\n",
    "$\\vec{F}_{GNWheel} = \\frac{\\vec{F}_{GN}}{6}$\n",
    "\n",
    "$\\vec{F}_{GHWheel} = \\frac{\\vec{F}_{GH}}{6}$"
   ]
  },
  {
   "cell_type": "code",
   "execution_count": 123,
   "metadata": {},
   "outputs": [
    {
     "name": "stdout",
     "output_type": "stream",
     "text": [
      "FGN: 16.35 N\n",
      "FGH: 0.0 N\n"
     ]
    }
   ],
   "source": [
    "Wheel_FGN = Total_FGN / 6\n",
    "Wheel_FGH = Total_FGH / 6\n",
    "\n",
    "print(\"FGN: {:3.4} N\".format(Wheel_FGN))\n",
    "print(\"FGH: {:3.4} N\".format(Wheel_FGH))"
   ]
  },
  {
   "cell_type": "markdown",
   "metadata": {},
   "source": [
    "## Friction"
   ]
  },
  {
   "cell_type": "markdown",
   "metadata": {},
   "source": [
    "### Static Friction"
   ]
  },
  {
   "cell_type": "markdown",
   "metadata": {},
   "source": [
    "The first calculation covers the static friction. For this we use only friction factors for car tires on asphalt. As we know, this friction if limiting the maximum torque we can apply to the wheels before they slip.\n",
    "\n",
    "$\\vec{F}_{HWheel} = \\mu_H * \\vec{F}_{GNWheel}$"
   ]
  },
  {
   "cell_type": "code",
   "execution_count": 124,
   "metadata": {},
   "outputs": [
    {
     "name": "stdout",
     "output_type": "stream",
     "text": [
      "Wheel_FH: 13.08 N\n"
     ]
    }
   ],
   "source": [
    "# Defining the MU_H values\n",
    "MU_H = STATIC_FH_WHEEL_STREET # Friction factor of car tire on dry asphalt\n",
    "#MU_H = 0.5 # Friction factor of car tire on wet asphalt\n",
    "#MU_H = 0.1 # Friction factor of car tire on ice\n",
    "\n",
    "Wheel_FH = MU_H * Wheel_FGN\n",
    "\n",
    "print(\"Wheel_FH: {:3.4} N\".format(Wheel_FH))"
   ]
  },
  {
   "cell_type": "markdown",
   "metadata": {},
   "source": [
    "### Sliding Friction"
   ]
  },
  {
   "cell_type": "markdown",
   "metadata": {},
   "source": [
    "The calculation of the sliding friction is nearly the same as for the static friction. Only the friction factor changes. This friction occurs if the wheel of the bot start slipping. If we apply to much torque or if we break to hard.\n",
    "\n",
    "$\\vec{F}_{GRWheel} = \\mu_G * \\vec{F}_{GNWheel}$"
   ]
  },
  {
   "cell_type": "code",
   "execution_count": 125,
   "metadata": {},
   "outputs": [
    {
     "name": "stdout",
     "output_type": "stream",
     "text": [
      "Wheel_FGR: 8.175 N\n"
     ]
    }
   ],
   "source": [
    "# Defining the MU_G values\n",
    "MU_G = SLIDING_FR_WHEEL_STREET # Sliding Friction factor of car tire on dry asphalt\n",
    "\n",
    "Wheel_FGR = MU_G * Wheel_FGN\n",
    "\n",
    "print(\"Wheel_FGR: {:3.4} N\".format(Wheel_FGR))"
   ]
  },
  {
   "cell_type": "markdown",
   "metadata": {},
   "source": [
    "### Rolling Friction\n",
    "The roling friction calculation is from the mathematical point of view very similar to the other friction types. But the friction factor is completely different and is based on completely different physical concepts\n",
    "\n",
    "$\\vec{F}_{RRWheel} = \\mu_R * \\vec{F}_{GNWheel}$\n",
    "\n",
    "$\\mu_R$ is defined by the following relationship:\n",
    "\n",
    "$\\mu_R = \\frac{f}{R}$\n",
    "\n",
    "Hereby $f$ is called the \"Lever of the rolling friction\" and $R$ is the wheel radius <code>WHEEL_RADIUS</code>"
   ]
  },
  {
   "cell_type": "code",
   "execution_count": 126,
   "metadata": {},
   "outputs": [
    {
     "name": "stdout",
     "output_type": "stream",
     "text": [
      "Wheel_FRR: 0.218 N\n"
     ]
    }
   ],
   "source": [
    "# Defining the cR value\n",
    "MU_R = ROLLING_f_WHEEL_STREET / WHEEL_RADIUS\n",
    "#CR = ROLLING_FR_WHEEL_STREET # rolling friction factor of car tire on dry asphalt\n",
    "\n",
    "Wheel_FRR = CR * Wheel_FGN\n",
    "\n",
    "print(\"Wheel_FRR: {:3.4} N\".format(Wheel_FRR))"
   ]
  },
  {
   "cell_type": "markdown",
   "metadata": {},
   "source": [
    "## Movement Scenarios"
   ]
  },
  {
   "cell_type": "markdown",
   "metadata": {},
   "source": [
    "In this section we are going to define and calculat a couple of exampe scenarios for the movement of the J2P Bot. This is necessary to identify the worst case scenario in respect to the needed torque because this has a major impact on the selection of the DC motor and gearbox."
   ]
  },
  {
   "cell_type": "markdown",
   "metadata": {},
   "source": [
    "### Scenario A: Movement on flat, horizontal surface"
   ]
  },
  {
   "cell_type": "markdown",
   "metadata": {},
   "source": [
    "The first scenario is the simplest scenario we could imagine (beside the one where the robot stands still ;-) ). In this scenario the J2P Bot is moving on a flat horizontal surface without any obstacles. Hereby we start from $v = 0$ which means the robot needs to accelerate from zero to $v_{max}$\n",
    "\n",
    "One important aspect for the scenario calculation is: Due to the fact that the J2P Bot has 6 wheels and each wheel has a motor, we are calculating the scenario only for a single wheel because that is what the DC motor has to power.\n",
    "\n",
    "At first we calculate the force which would be needed to accelerate the J2P Bot with the specified acceleration (mapped to a single wheel!).\n",
    "\n",
    "$\\vec{F}_{A} = m * \\vec{a} = \\frac{F_{GNWheel}}{g} * \\vec{a}$\n",
    "\n",
    "After that, we add the resistances like rolling resistance and a possible downhill slop force.\n",
    "\n",
    "$\\vec{F}_{AReal} = \\vec{F}_{A} + \\vec{F}_{RRWheel} + \\vec{F}_{GHWheel}$\n",
    "\n",
    "And after that, we add a percentaged value of the just calculated total force to consider also some friction and support losses in the mechanics.\n",
    "\n",
    "$\\vec{F}_{AReal} = \\vec{F}_{AReal} + \\epsilon$\n",
    "\n",
    "We also need to check whether the force which we would need to move one wheel is still smaller or equal the maximum static friction.\n",
    "\n",
    "$F_{RWheelmax} \\geq \\vec{F}_{AReal}$"
   ]
  },
  {
   "cell_type": "code",
   "execution_count": 127,
   "metadata": {},
   "outputs": [
    {
     "name": "stdout",
     "output_type": "stream",
     "text": [
      "Wheel_FA     : 0.8333 N\n",
      "Wheel_FA_Real: 1.156 N\n",
      "Not Slipping : True\n",
      "Wheel_MA     : 0.06939 Nm\n"
     ]
    }
   ],
   "source": [
    "# The pure force for the theoretical movement without resistances\n",
    "Wheel_FA = (Wheel_FGN / GRAVITY) * DEFAULT_ACCEL\n",
    "# The force including the resistances (rolling resistance and downhill slope force)\n",
    "Wheel_FA_Real = Wheel_FA + Wheel_FRR + Wheel_FGH\n",
    "# Add the bearing and support losses\n",
    "Wheel_FA_Real = Wheel_FA_Real + (Wheel_FA_Real * DEFAULT_EPSILON)\n",
    "\n",
    "# Check whether the force is smaller or equal to FR\n",
    "NotSlipping = Wheel_FA_Real <= Wheel_FR\n",
    "\n",
    "# Calculate the needed torque\n",
    "Wheel_MA = Wheel_FA_Real * WHEEL_RADIUS\n",
    "\n",
    "print(\"Wheel_FA     : {:3.4} N\".format(Wheel_FA))\n",
    "print(\"Wheel_FA_Real: {:3.4} N\".format(Wheel_FA_Real))\n",
    "print(\"Not Slipping : {}\".format(NotSlipping))\n",
    "\n",
    "print(\"Wheel_MA     : {:3.4} Nm\".format(Wheel_MA))\n",
    "\n",
    "Wheel_MA_Stored = Wheel_MA"
   ]
  },
  {
   "cell_type": "markdown",
   "metadata": {},
   "source": [
    "### Scenario B: Movement across a small obstacle"
   ]
  },
  {
   "cell_type": "markdown",
   "metadata": {},
   "source": [
    "The second scenario is very similar to the first one but this time we have to overcome a small obstacle (like a door sill). For this an additional force steps into the game. This is the downhill slope force which is needed to \"climb\" over the obstacle. To calculate this, we have to do some intermediate calculation because the obstacle will be modelled like a slope with a specific angle. For this intermediate calculation we will first calculate the angle $\\phi$ and a special distance $y$ which are depending on the wheel geometry and the obstacle height.\n",
    "\n",
    "$\\phi = arccos\\Big(\\frac{R_W - h}{R_W}\\Big)$\n",
    "\n",
    "$y = sin(\\phi) * R_W$\n",
    "\n",
    "Whereby $R_W$ is our <code>WHEEL_RADIUS</code> and $h$ is the height of the obstacle\n",
    "\n",
    "And with $\\phi$ and $y$ in place, we can calculate the angle $\\alpha$ which will be the slope substitute angle for the obstacle\n",
    "\n",
    "$\\alpha = arctan\\Big(\\frac{h}{y}\\Big)$\n",
    "\n",
    "With the slope angle, we can easily calculate the additional \"obstacle downhill slope force\"\n",
    "\n",
    "$F_{GHOWheel} = \\sin(\\alpha) * F_{GNWheel}$"
   ]
  },
  {
   "cell_type": "code",
   "execution_count": 128,
   "metadata": {},
   "outputs": [
    {
     "name": "stdout",
     "output_type": "stream",
     "text": [
      "Angle Phi         : 60.0°\n",
      "Distance y        : 0.05196m (5.196cm)\n",
      "Angle Alpha       : 30.0°\n",
      "Wheel_FGH_Obstacle: 8.175N\n",
      "\n"
     ]
    }
   ],
   "source": [
    "# First, defining the obstacle\n",
    "Obstacle_Height = 0.03 # 3cm height\n",
    "\n",
    "# Now calculating the angle phi in the wheel circle\n",
    "cosPhi = (WHEEL_RADIUS - Obstacle_Height) / WHEEL_RADIUS # (r - h) / r\n",
    "phi = math.degrees(math.acos((cosPhi)))\n",
    "# Calculating the distance y\n",
    "y = math.sin(math.radians(phi)) * WHEEL_RADIUS\n",
    "# Calculating the angle alpha for the slope\n",
    "alpha = math.degrees(math.atan(Obstacle_Height / y))\n",
    "\n",
    "print(\"Angle Phi         : {:3.4}°\".format(phi))\n",
    "print(\"Distance y        : {:3.4}m ({:3.4}cm)\".format(y, y*100))\n",
    "print(\"Angle Alpha       : {:3.4}°\".format(alpha))\n",
    "\n",
    "# Calculate the downhill slope force for the obstacle (based on alpha)\n",
    "Wheel_FGH_Obstacle = (math.sin(math.radians(alpha)) * Total_FG) / 6\n",
    "print(\"Wheel_FGH_Obstacle: {:3.4}N\\n\".format(Wheel_FGH_Obstacle))"
   ]
  },
  {
   "cell_type": "markdown",
   "metadata": {},
   "source": [
    "As soon as we have the obstacle downhill slope force, we can just add it to the other resistance forces\n",
    "\n",
    "$\\vec{F}_{AReal} = \\vec{F}_{A} + \\vec{F}_{RRWheel} + \\vec{F}_{GHWheel} + \\vec{F}_{GHOWheel} + \\epsilon$\n",
    "\n",
    "The rest of the calculation is completely the same as for the horizontal movement without an obstacle. \n",
    "\n",
    "Important: We reduced the acceleration in this scenario to a fourth of the original one because usually you drive more slowly across an obstacle."
   ]
  },
  {
   "cell_type": "code",
   "execution_count": 129,
   "metadata": {},
   "outputs": [
    {
     "name": "stdout",
     "output_type": "stream",
     "text": [
      "Wheel_FA     : 0.2083 N\n",
      "Wheel_FA_Real: 9.461 N\n",
      "Not Slipping : True\n",
      "Wheel_MA     : 0.5677 Nm\n",
      "Factor of normal to obstacle: 8.181\n"
     ]
    }
   ],
   "source": [
    "# The pure force for the theoretical movement without resistances\n",
    "Wheel_FA = (Wheel_FGN / GRAVITY) * (DEFAULT_ACCEL / 4.0) # Use only a 4th of the acceleration\n",
    "# The force including the resistances (rolling resistance and downhill slope force + downhill clopse force obstacle)\n",
    "Wheel_FA_Real = Wheel_FA + Wheel_FRR + Wheel_FGH + Wheel_FGH_Obstacle\n",
    "# Add the bearing and support losses\n",
    "Wheel_FA_Real = Wheel_FA_Real + (Wheel_FA_Real * DEFAULT_EPSILON)\n",
    "\n",
    "# Check whether the force is smaller or equal to FR\n",
    "NotSlipping = Wheel_FA <= Wheel_FR\n",
    "\n",
    "# Calculate the needed torque\n",
    "Wheel_MA = Wheel_FA_Real * WHEEL_RADIUS\n",
    "\n",
    "print(\"Wheel_FA     : {:3.4} N\".format(Wheel_FA))\n",
    "print(\"Wheel_FA_Real: {:3.4} N\".format(Wheel_FA_Real))\n",
    "print(\"Not Slipping : {}\".format(NotSlipping))\n",
    "\n",
    "print(\"Wheel_MA     : {:3.4} Nm\".format(Wheel_MA))\n",
    "print(\"Factor of normal to obstacle: {:3.4}\".format(Wheel_MA / Wheel_MA_Stored))"
   ]
  },
  {
   "cell_type": "markdown",
   "metadata": {},
   "source": [
    "As you can see, the needed torque for the obstacle scenario is 8 times bigger than the one you need for the horizontal movement without an obstacle. Now you can also imagine (and also try out in the calcualtion) what would happen if you don't decrease the accerleration in this scenario."
   ]
  },
  {
   "cell_type": "code",
   "execution_count": null,
   "metadata": {},
   "outputs": [],
   "source": []
  }
 ],
 "metadata": {
  "kernelspec": {
   "display_name": "Python 3",
   "language": "python",
   "name": "python3"
  },
  "language_info": {
   "codemirror_mode": {
    "name": "ipython",
    "version": 3
   },
   "file_extension": ".py",
   "mimetype": "text/x-python",
   "name": "python",
   "nbconvert_exporter": "python",
   "pygments_lexer": "ipython3",
   "version": "3.8.5"
  }
 },
 "nbformat": 4,
 "nbformat_minor": 4
}
